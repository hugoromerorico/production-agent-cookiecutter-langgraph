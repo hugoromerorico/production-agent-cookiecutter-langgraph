{
 "cells": [
  {
   "cell_type": "markdown",
   "id": "ee3da328",
   "metadata": {},
   "source": [
    "# Notebook folder\n",
    "\n",
    "This folder is for the usually needed investigation period of projects, where you find out how to connect to systems or check the data structures and that kind of stuff. Doing it in a notebook is usually a good way to operate.\n",
    "\n",
    "If you need any extra dependency in here but maybe dont want it in the prod application, you can add it with the --dev flag:\n",
    "```bash\n",
    "uv add new-dependency --dev\n",
    "```"
   ]
  },
  {
   "cell_type": "code",
   "execution_count": null,
   "id": "85d67e56",
   "metadata": {},
   "outputs": [],
   "source": [
    "print(\"Welcome to {{cookiecutter.project_name}} development process\")"
   ]
  }
 ],
 "metadata": {
  "kernelspec": {
   "display_name": ".venv",
   "language": "python",
   "name": "python3"
  },
  "language_info": {
   "codemirror_mode": {
    "name": "ipython",
    "version": 3
   },
   "file_extension": ".py",
   "mimetype": "text/x-python",
   "name": "python",
   "nbconvert_exporter": "python",
   "pygments_lexer": "ipython3",
   "version": "3.13.7"
  }
 },
 "nbformat": 4,
 "nbformat_minor": 5
}
